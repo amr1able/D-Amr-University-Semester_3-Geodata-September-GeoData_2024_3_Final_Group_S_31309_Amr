{
 "cells": [
  {
   "cell_type": "code",
   "execution_count": 1,
   "id": "bdab5760-cb59-4d6b-a69b-f29d8edc55fc",
   "metadata": {},
   "outputs": [],
   "source": [
    "import os\n",
    "import moviepy.video.io.ImageSequenceClip"
   ]
  },
  {
   "cell_type": "code",
   "execution_count": 2,
   "id": "7d270bcb-7d0b-4987-a6e7-f86df3bd2a29",
   "metadata": {},
   "outputs": [],
   "source": [
    "image_in_dir = r\"../Prec_Time.Series.Final/images\"\n",
    "video_in_dir = r\"../Prec_Time.Series.Final/video\"\n",
    "#video_name = r\"/timeseries_Amrs_version.ogv\"\n",
    "video_name = r\"/timeseries_perc_Amrs_version.mp4\"\n",
    "video_dir_name = video_in_dir + video_name\n",
    "\n",
    "fps=7 #For a day per frame a week passes every Second"
   ]
  },
  {
   "cell_type": "code",
   "execution_count": 3,
   "id": "a2788698-34f7-4b9e-9a0c-3c51bf762d0f",
   "metadata": {},
   "outputs": [],
   "source": [
    "#help(clip.write_videofile)"
   ]
  },
  {
   "cell_type": "code",
   "execution_count": 4,
   "id": "39ebaf72-4315-4a53-885d-91a88cf38793",
   "metadata": {},
   "outputs": [
    {
     "name": "stdout",
     "output_type": "stream",
     "text": [
      "Moviepy - Building video ../Prec_Time.Series.Final/video/timeseries_perc_Amrs_version.mp4.\n",
      "Moviepy - Writing video ../Prec_Time.Series.Final/video/timeseries_perc_Amrs_version.mp4\n",
      "\n"
     ]
    },
    {
     "name": "stderr",
     "output_type": "stream",
     "text": [
      "                                                                                                                       "
     ]
    },
    {
     "name": "stdout",
     "output_type": "stream",
     "text": [
      "Moviepy - Done !\n",
      "Moviepy - video ready ../Prec_Time.Series.Final/video/timeseries_perc_Amrs_version.mp4\n",
      "CPU times: total: 14.5 s\n",
      "Wall time: 18.3 s\n"
     ]
    },
    {
     "name": "stderr",
     "output_type": "stream",
     "text": [
      "\r"
     ]
    }
   ],
   "source": [
    "%%time\n",
    "image_files = [os.path.join(image_in_dir,img)\n",
    "               for img in os.listdir(image_in_dir)\n",
    "               if img.endswith(\".png\")]\n",
    "clip = moviepy.video.io.ImageSequenceClip.ImageSequenceClip(image_files, fps=fps)\n",
    "#clip.write_videofile(video_dir_name)\n",
    "clip.write_videofile(video_dir_name, bitrate =\"8000k\", codec= 'mpeg4')"
   ]
  },
  {
   "cell_type": "code",
   "execution_count": null,
   "id": "e3104bba-81e0-4afb-a703-dc59ee6bf54f",
   "metadata": {},
   "outputs": [],
   "source": []
  }
 ],
 "metadata": {
  "kernelspec": {
   "display_name": "Python 3 (ipykernel)",
   "language": "python",
   "name": "python3"
  },
  "language_info": {
   "codemirror_mode": {
    "name": "ipython",
    "version": 3
   },
   "file_extension": ".py",
   "mimetype": "text/x-python",
   "name": "python",
   "nbconvert_exporter": "python",
   "pygments_lexer": "ipython3",
   "version": "3.12.3"
  }
 },
 "nbformat": 4,
 "nbformat_minor": 5
}
